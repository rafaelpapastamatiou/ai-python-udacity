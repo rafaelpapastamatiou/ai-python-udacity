{
 "cells": [
  {
   "cell_type": "code",
   "execution_count": 1,
   "id": "c4919bcf",
   "metadata": {},
   "outputs": [
    {
     "data": {
      "text/plain": [
       "array([1, 2, 3, 4, 5])"
      ]
     },
     "execution_count": 1,
     "metadata": {},
     "output_type": "execute_result"
    }
   ],
   "source": [
    "import numpy as np\n",
    "\n",
    "my_list = [1, 2, 3, 4, 5]\n",
    "np.array(my_list)"
   ]
  },
  {
   "cell_type": "code",
   "execution_count": 9,
   "id": "6a75e808",
   "metadata": {},
   "outputs": [
    {
     "name": "stdout",
     "output_type": "stream",
     "text": [
      "x [[0. 0. 0. 0.]\n",
      " [0. 0. 0. 0.]\n",
      " [0. 0. 0. 0.]]\n",
      "x dtype float64\n",
      "y: [[0 0 0]\n",
      " [0 0 0]]\n",
      "y dtype: int64\n"
     ]
    }
   ],
   "source": [
    "x = np.zeros((3, 4))\n",
    "y = np.zeros((2, 3), dtype=int)\n",
    "print('x', x)\n",
    "print('x dtype', x.dtype)\n",
    "print('y:', y)\n",
    "print('y dtype:', y.dtype)"
   ]
  },
  {
   "cell_type": "code",
   "execution_count": 13,
   "id": "06fe05b3",
   "metadata": {},
   "outputs": [
    {
     "name": "stdout",
     "output_type": "stream",
     "text": [
      "x [[1 1 1]\n",
      " [1 1 1]\n",
      " [1 1 1]]\n",
      "x dtype int64\n",
      "y [[1. 1. 1.]\n",
      " [1. 1. 1.]\n",
      " [1. 1. 1.]]\n",
      "y dtype float64\n"
     ]
    }
   ],
   "source": [
    "x = np.full((3, 3), 1)\n",
    "y = np.full((3, 3), 1, dtype=np.float64)\n",
    "print('x', x)\n",
    "print('x dtype', x.dtype)\n",
    "print('y', y)\n",
    "print('y dtype', y.dtype)"
   ]
  },
  {
   "cell_type": "code",
   "execution_count": 14,
   "id": "0f6d0d37",
   "metadata": {},
   "outputs": [
    {
     "name": "stdout",
     "output_type": "stream",
     "text": [
      "[[10  0  0  0  0]\n",
      " [ 0 20  0  0  0]\n",
      " [ 0  0 30  0  0]\n",
      " [ 0  0  0 40  0]\n",
      " [ 0  0  0  0 50]]\n"
     ]
    }
   ],
   "source": [
    "x = np.diag([10, 20, 30, 40, 50])\n",
    "print(x)"
   ]
  },
  {
   "cell_type": "code",
   "execution_count": 16,
   "id": "ddd6206d",
   "metadata": {},
   "outputs": [
    {
     "name": "stdout",
     "output_type": "stream",
     "text": [
      "[0 1 2 3 4 5 6 7 8 9]\n"
     ]
    }
   ],
   "source": [
    "x = np.arange(10)\n",
    "print(x)"
   ]
  },
  {
   "cell_type": "code",
   "execution_count": 18,
   "id": "93103c0b",
   "metadata": {},
   "outputs": [
    {
     "name": "stdout",
     "output_type": "stream",
     "text": [
      "[ 5  6  7  8  9 10 11 12 13 14]\n"
     ]
    }
   ],
   "source": [
    "x = np.arange(5, 15)\n",
    "print(x)"
   ]
  },
  {
   "cell_type": "code",
   "execution_count": 21,
   "id": "3f0b0218",
   "metadata": {},
   "outputs": [
    {
     "name": "stdout",
     "output_type": "stream",
     "text": [
      "[ 1  3  5  7  9 11 13 15 17 19 21]\n"
     ]
    }
   ],
   "source": [
    "x = np.arange(1, 22, 2)\n",
    "print(x)"
   ]
  },
  {
   "cell_type": "code",
   "execution_count": 25,
   "id": "79f6912d",
   "metadata": {},
   "outputs": [
    {
     "name": "stdout",
     "output_type": "stream",
     "text": [
      "[ 0.  6. 12. 18. 24. 30.]\n"
     ]
    }
   ],
   "source": [
    "x = np.linspace(0, 30, 6)\n",
    "print(x)"
   ]
  },
  {
   "cell_type": "code",
   "execution_count": 26,
   "id": "6ea3af0d",
   "metadata": {},
   "outputs": [
    {
     "name": "stdout",
     "output_type": "stream",
     "text": [
      "[ 0.  5. 10. 15. 20. 25.]\n"
     ]
    }
   ],
   "source": [
    " x = np.linspace(0, 30, 6, endpoint=False)\n",
    "print(x)"
   ]
  },
  {
   "cell_type": "code",
   "execution_count": 28,
   "id": "dce70a67",
   "metadata": {},
   "outputs": [
    {
     "name": "stdout",
     "output_type": "stream",
     "text": [
      "[[ 0.  5. 10.]\n",
      " [15. 20. 25.]]\n"
     ]
    }
   ],
   "source": [
    "x = np.reshape(x, (2, 3))\n",
    "print(x)"
   ]
  },
  {
   "cell_type": "code",
   "execution_count": 29,
   "id": "34a6d633",
   "metadata": {},
   "outputs": [
    {
     "name": "stdout",
     "output_type": "stream",
     "text": [
      "[[ 0  1  2  3  4  5  6  7  8  9]\n",
      " [10 11 12 13 14 15 16 17 18 19]\n",
      " [20 21 22 23 24 25 26 27 28 29]\n",
      " [30 31 32 33 34 35 36 37 38 39]\n",
      " [40 41 42 43 44 45 46 47 48 49]]\n"
     ]
    }
   ],
   "source": [
    "x = np.arange(50).reshape((5, 10))\n",
    "print(x)"
   ]
  },
  {
   "cell_type": "code",
   "execution_count": 35,
   "id": "d5102d17",
   "metadata": {},
   "outputs": [
    {
     "name": "stdout",
     "output_type": "stream",
     "text": [
      "[[ 0.  5. 10.]\n",
      " [15. 20. 25.]\n",
      " [30. 35. 40.]\n",
      " [45. 50. 55.]]\n"
     ]
    }
   ],
   "source": [
    "x = np.linspace(0, 60, 12, endpoint=False).reshape((4, 3))\n",
    "print(x)"
   ]
  },
  {
   "cell_type": "code",
   "execution_count": 36,
   "id": "81ec4224",
   "metadata": {},
   "outputs": [
    {
     "name": "stdout",
     "output_type": "stream",
     "text": [
      "[[0.44953884 0.27658381 0.44515054 0.88267258 0.45189528]\n",
      " [0.39121394 0.39734341 0.76360075 0.79268497 0.77341492]\n",
      " [0.6195701  0.61280902 0.39697013 0.79811532 0.72957967]\n",
      " [0.83905686 0.74232315 0.03375339 0.67407502 0.88664582]\n",
      " [0.42380308 0.24667073 0.13928859 0.07627419 0.77329363]]\n"
     ]
    }
   ],
   "source": [
    "x = np.random.random((5, 5))\n",
    "print(x)"
   ]
  },
  {
   "cell_type": "code",
   "execution_count": 37,
   "id": "c0ea487c",
   "metadata": {},
   "outputs": [
    {
     "name": "stdout",
     "output_type": "stream",
     "text": [
      "[[7 4 7]\n",
      " [9 7 9]\n",
      " [1 2 1]]\n"
     ]
    }
   ],
   "source": [
    "x = np.random.randint(1, 10, (3, 3))\n",
    "print(x)"
   ]
  },
  {
   "cell_type": "code",
   "execution_count": 38,
   "id": "f65c4555",
   "metadata": {},
   "outputs": [
    {
     "name": "stdout",
     "output_type": "stream",
     "text": [
      "[[-0.14024017 -0.01486017 -0.09901123  0.18943106  0.15971242 -0.11192121\n",
      "   0.11282301 -0.0005547   0.02355374 -0.04570871]\n",
      " [ 0.14699274 -0.02577624  0.08217451 -0.03878073  0.10243444 -0.05592412\n",
      "  -0.18666087  0.02452253  0.01455335 -0.08860745]\n",
      " [ 0.01769897  0.22415921  0.01107956 -0.00101289  0.05449106 -0.0363518\n",
      "   0.04956133 -0.13077962 -0.0165008   0.04908879]\n",
      " [ 0.09342185  0.08180432  0.03607972 -0.09619947  0.15157216  0.06497469\n",
      "   0.12298305 -0.02561909 -0.14791352  0.08480624]\n",
      " [ 0.043237    0.07772362  0.05107362  0.11503602 -0.29543737  0.0408529\n",
      "   0.03186446 -0.11520649 -0.12863726  0.07689922]\n",
      " [ 0.08117085 -0.02850392 -0.09564587 -0.01731365  0.04588973 -0.0494701\n",
      "  -0.01371855  0.0191142  -0.00484268 -0.00250431]\n",
      " [-0.13793995 -0.12751087 -0.00791733 -0.11653484  0.14637045 -0.16922976\n",
      "   0.11176447 -0.11652711  0.04568123  0.04916013]\n",
      " [ 0.02744101 -0.09408118 -0.09948578  0.12968426 -0.09531792  0.00198215\n",
      "  -0.03902804 -0.18434626  0.06507946 -0.01909952]\n",
      " [ 0.01203064 -0.0295428   0.14078075 -0.02815302 -0.12320862 -0.09771137\n",
      "  -0.03937611 -0.02215287  0.08541875  0.06655686]\n",
      " [-0.00150091 -0.00271709  0.01031473 -0.14011633  0.01907368  0.03306839\n",
      "  -0.02607525  0.08102176 -0.02822573 -0.00981511]]\n"
     ]
    }
   ],
   "source": [
    "x = np.random.normal(0, 0.1, size=(10,10))\n",
    "print(x)"
   ]
  },
  {
   "cell_type": "code",
   "execution_count": 39,
   "id": "1f3d3028",
   "metadata": {},
   "outputs": [
    {
     "name": "stdout",
     "output_type": "stream",
     "text": [
      "mean: -0.0026310767201801082\n",
      "standard deviation: 0.09258372389252803\n",
      "max 0.224159210990298\n",
      "min: -0.2954373688947658\n",
      "# positive 48\n",
      "# negative 52\n"
     ]
    }
   ],
   "source": [
    "print('mean:', x.mean())\n",
    "print('standard deviation:', x.std())\n",
    "print('max', x.max())\n",
    "print('min:', x.min())\n",
    "print('# positive', (x > 0).sum())\n",
    "print('# negative', (x < 0).sum())"
   ]
  },
  {
   "cell_type": "code",
   "execution_count": null,
   "id": "378bd72e",
   "metadata": {},
   "outputs": [],
   "source": []
  }
 ],
 "metadata": {
  "kernelspec": {
   "display_name": "Python [conda env:base] *",
   "language": "python",
   "name": "conda-base-py"
  },
  "language_info": {
   "codemirror_mode": {
    "name": "ipython",
    "version": 3
   },
   "file_extension": ".py",
   "mimetype": "text/x-python",
   "name": "python",
   "nbconvert_exporter": "python",
   "pygments_lexer": "ipython3",
   "version": "3.12.4"
  }
 },
 "nbformat": 4,
 "nbformat_minor": 5
}
